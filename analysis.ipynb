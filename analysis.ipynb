{
  "cells": [
    {
      "cell_type": "markdown",
      "metadata": {
        "id": "CcUT6Fon_qRE"
      },
      "source": [
        "### Required Assignment 5.1: Will the Customer Accept the Coupon?\n",
        "\n",
        "**Context**\n",
        "\n",
        "Imagine driving through town and a coupon is delivered to your cell phone for a restaurant near where you are driving. Would you accept that coupon and take a short detour to the restaurant? Would you accept the coupon but use it on a subsequent trip? Would you ignore the coupon entirely? What if the coupon was for a bar instead of a restaurant? What about a coffee house? Would you accept a bar coupon with a minor passenger in the car? What about if it was just you and your partner in the car? Would weather impact the rate of acceptance? What about the time of day?\n",
        "\n",
        "Obviously, proximity to the business is a factor on whether the coupon is delivered to the driver or not, but what are the factors that determine whether a driver accepts the coupon once it is delivered to them? How would you determine whether a driver is likely to accept a coupon?\n",
        "\n",
        "**Overview**\n",
        "\n",
        "The goal of this project is to use what you know about visualizations and probability distributions to distinguish between customers who accepted a driving coupon versus those that did not.\n",
        "\n",
        "**Data**\n",
        "\n",
        "This data comes to us from the UCI Machine Learning repository and was collected via a survey on Amazon Mechanical Turk. The survey describes different driving scenarios including the destination, current time, weather, passenger, etc., and then ask the person whether he will accept the coupon if he is the driver. Answers that the user will drive there ‘right away’ or ‘later before the coupon expires’ are labeled as ‘Y = 1’ and answers ‘no, I do not want the coupon’ are labeled as ‘Y = 0’.  There are five different types of coupons -- less expensive restaurants (under \\$20), coffee houses, carry out & take away, bar, and more expensive restaurants (\\$20 - $50)."
      ]
    },
    {
      "cell_type": "markdown",
      "metadata": {
        "id": "1wORvMBJ_qRF"
      },
      "source": [
        "**Deliverables**\n",
        "\n",
        "Your final product should be a brief report that highlights the differences between customers who did and did not accept the coupons.  To explore the data you will utilize your knowledge of plotting, statistical summaries, and visualization using Python. You will publish your findings in a public facing github repository as your first portfolio piece.\n",
        "\n",
        "\n",
        "\n"
      ]
    },
    {
      "cell_type": "markdown",
      "metadata": {
        "id": "pG6_Ym6q_qRG"
      },
      "source": [
        "### Data Description\n",
        "Keep in mind that these values mentioned below are average values.\n",
        "\n",
        "The attributes of this data set include:\n",
        "1. User attributes\n",
        "    -  Gender: male, female\n",
        "    -  Age: below 21, 21 to 25, 26 to 30, etc.\n",
        "    -  Marital Status: single, married partner, unmarried partner, or widowed\n",
        "    -  Number of children: 0, 1, or more than 1\n",
        "    -  Education: high school, bachelors degree, associates degree, or graduate degree\n",
        "    -  Occupation: architecture & engineering, business & financial, etc.\n",
        "    -  Annual income: less than \\\\$12500, \\\\$12500 - \\\\$24999, \\\\$25000 - \\\\$37499, etc.\n",
        "    -  Number of times that he/she goes to a bar: 0, less than 1, 1 to 3, 4 to 8 or greater than 8\n",
        "    -  Number of times that he/she buys takeaway food: 0, less than 1, 1 to 3, 4 to 8 or greater\n",
        "    than 8\n",
        "    -  Number of times that he/she goes to a coffee house: 0, less than 1, 1 to 3, 4 to 8 or\n",
        "    greater than 8\n",
        "    -  Number of times that he/she eats at a restaurant with average expense less than \\\\$20 per\n",
        "    person: 0, less than 1, 1 to 3, 4 to 8 or greater than 8\n",
        "    -  Number of times that he/she goes to a bar: 0, less than 1, 1 to 3, 4 to 8 or greater than 8\n",
        "    \n",
        "\n",
        "2. Contextual attributes\n",
        "    - Driving destination: home, work, or no urgent destination\n",
        "    - Location of user, coupon and destination: we provide a map to show the geographical\n",
        "    location of the user, destination, and the venue, and we mark the distance between each\n",
        "    two places with time of driving. The user can see whether the venue is in the same\n",
        "    direction as the destination.\n",
        "    - Weather: sunny, rainy, or snowy\n",
        "    - Temperature: 30F, 55F, or 80F\n",
        "    - Time: 10AM, 2PM, or 6PM\n",
        "    - Passenger: alone, partner, kid(s), or friend(s)\n",
        "\n",
        "\n",
        "3. Coupon attributes\n",
        "    - time before it expires: 2 hours or one day"
      ]
    },
    {
      "cell_type": "code",
      "execution_count": 2,
      "metadata": {
        "id": "dzNoP3o__qRG"
      },
      "outputs": [],
      "source": [
        "import matplotlib.pyplot as plt\n",
        "import plotly_express as px\n",
        "import seaborn as sns\n",
        "import pandas as pd\n",
        "import numpy as np"
      ]
    },
    {
      "cell_type": "markdown",
      "metadata": {
        "id": "Ct8pI1uE_qRG"
      },
      "source": [
        "### Problems\n",
        "\n",
        "Use the prompts below to get started with your data analysis.  \n",
        "\n",
        "1. Read in the `coupons.csv` file.\n",
        "\n",
        "\n"
      ]
    },
    {
      "cell_type": "code",
      "execution_count": 3,
      "metadata": {
        "id": "X0vbffYg_qRH"
      },
      "outputs": [],
      "source": [
        "data = pd.read_csv('data/coupons.csv')"
      ]
    },
    {
      "cell_type": "code",
      "execution_count": 5,
      "metadata": {
        "id": "TXofQ_DF_qRH",
        "outputId": "2fc96a2c-1112-4b54-f24f-dbb9bc88abfb"
      },
      "outputs": [
        {
          "data": {
            "text/html": [
              "<div>\n",
              "<style scoped>\n",
              "    .dataframe tbody tr th:only-of-type {\n",
              "        vertical-align: middle;\n",
              "    }\n",
              "\n",
              "    .dataframe tbody tr th {\n",
              "        vertical-align: top;\n",
              "    }\n",
              "\n",
              "    .dataframe thead th {\n",
              "        text-align: right;\n",
              "    }\n",
              "</style>\n",
              "<table border=\"1\" class=\"dataframe\">\n",
              "  <thead>\n",
              "    <tr style=\"text-align: right;\">\n",
              "      <th></th>\n",
              "      <th>destination</th>\n",
              "      <th>passanger</th>\n",
              "      <th>weather</th>\n",
              "      <th>temperature</th>\n",
              "      <th>time</th>\n",
              "      <th>coupon</th>\n",
              "      <th>expiration</th>\n",
              "      <th>gender</th>\n",
              "      <th>age</th>\n",
              "      <th>maritalStatus</th>\n",
              "      <th>...</th>\n",
              "      <th>CoffeeHouse</th>\n",
              "      <th>CarryAway</th>\n",
              "      <th>RestaurantLessThan20</th>\n",
              "      <th>Restaurant20To50</th>\n",
              "      <th>toCoupon_GEQ5min</th>\n",
              "      <th>toCoupon_GEQ15min</th>\n",
              "      <th>toCoupon_GEQ25min</th>\n",
              "      <th>direction_same</th>\n",
              "      <th>direction_opp</th>\n",
              "      <th>Y</th>\n",
              "    </tr>\n",
              "  </thead>\n",
              "  <tbody>\n",
              "    <tr>\n",
              "      <th>0</th>\n",
              "      <td>No Urgent Place</td>\n",
              "      <td>Alone</td>\n",
              "      <td>Sunny</td>\n",
              "      <td>55</td>\n",
              "      <td>2PM</td>\n",
              "      <td>Restaurant(&lt;20)</td>\n",
              "      <td>1d</td>\n",
              "      <td>Female</td>\n",
              "      <td>21</td>\n",
              "      <td>Unmarried partner</td>\n",
              "      <td>...</td>\n",
              "      <td>never</td>\n",
              "      <td>NaN</td>\n",
              "      <td>4~8</td>\n",
              "      <td>1~3</td>\n",
              "      <td>1</td>\n",
              "      <td>0</td>\n",
              "      <td>0</td>\n",
              "      <td>0</td>\n",
              "      <td>1</td>\n",
              "      <td>1</td>\n",
              "    </tr>\n",
              "    <tr>\n",
              "      <th>1</th>\n",
              "      <td>No Urgent Place</td>\n",
              "      <td>Friend(s)</td>\n",
              "      <td>Sunny</td>\n",
              "      <td>80</td>\n",
              "      <td>10AM</td>\n",
              "      <td>Coffee House</td>\n",
              "      <td>2h</td>\n",
              "      <td>Female</td>\n",
              "      <td>21</td>\n",
              "      <td>Unmarried partner</td>\n",
              "      <td>...</td>\n",
              "      <td>never</td>\n",
              "      <td>NaN</td>\n",
              "      <td>4~8</td>\n",
              "      <td>1~3</td>\n",
              "      <td>1</td>\n",
              "      <td>0</td>\n",
              "      <td>0</td>\n",
              "      <td>0</td>\n",
              "      <td>1</td>\n",
              "      <td>0</td>\n",
              "    </tr>\n",
              "    <tr>\n",
              "      <th>2</th>\n",
              "      <td>No Urgent Place</td>\n",
              "      <td>Friend(s)</td>\n",
              "      <td>Sunny</td>\n",
              "      <td>80</td>\n",
              "      <td>10AM</td>\n",
              "      <td>Carry out &amp; Take away</td>\n",
              "      <td>2h</td>\n",
              "      <td>Female</td>\n",
              "      <td>21</td>\n",
              "      <td>Unmarried partner</td>\n",
              "      <td>...</td>\n",
              "      <td>never</td>\n",
              "      <td>NaN</td>\n",
              "      <td>4~8</td>\n",
              "      <td>1~3</td>\n",
              "      <td>1</td>\n",
              "      <td>1</td>\n",
              "      <td>0</td>\n",
              "      <td>0</td>\n",
              "      <td>1</td>\n",
              "      <td>1</td>\n",
              "    </tr>\n",
              "    <tr>\n",
              "      <th>3</th>\n",
              "      <td>No Urgent Place</td>\n",
              "      <td>Friend(s)</td>\n",
              "      <td>Sunny</td>\n",
              "      <td>80</td>\n",
              "      <td>2PM</td>\n",
              "      <td>Coffee House</td>\n",
              "      <td>2h</td>\n",
              "      <td>Female</td>\n",
              "      <td>21</td>\n",
              "      <td>Unmarried partner</td>\n",
              "      <td>...</td>\n",
              "      <td>never</td>\n",
              "      <td>NaN</td>\n",
              "      <td>4~8</td>\n",
              "      <td>1~3</td>\n",
              "      <td>1</td>\n",
              "      <td>1</td>\n",
              "      <td>0</td>\n",
              "      <td>0</td>\n",
              "      <td>1</td>\n",
              "      <td>0</td>\n",
              "    </tr>\n",
              "    <tr>\n",
              "      <th>4</th>\n",
              "      <td>No Urgent Place</td>\n",
              "      <td>Friend(s)</td>\n",
              "      <td>Sunny</td>\n",
              "      <td>80</td>\n",
              "      <td>2PM</td>\n",
              "      <td>Coffee House</td>\n",
              "      <td>1d</td>\n",
              "      <td>Female</td>\n",
              "      <td>21</td>\n",
              "      <td>Unmarried partner</td>\n",
              "      <td>...</td>\n",
              "      <td>never</td>\n",
              "      <td>NaN</td>\n",
              "      <td>4~8</td>\n",
              "      <td>1~3</td>\n",
              "      <td>1</td>\n",
              "      <td>1</td>\n",
              "      <td>0</td>\n",
              "      <td>0</td>\n",
              "      <td>1</td>\n",
              "      <td>0</td>\n",
              "    </tr>\n",
              "  </tbody>\n",
              "</table>\n",
              "<p>5 rows × 26 columns</p>\n",
              "</div>"
            ],
            "text/plain": [
              "       destination  passanger weather  temperature  time  \\\n",
              "0  No Urgent Place      Alone   Sunny           55   2PM   \n",
              "1  No Urgent Place  Friend(s)   Sunny           80  10AM   \n",
              "2  No Urgent Place  Friend(s)   Sunny           80  10AM   \n",
              "3  No Urgent Place  Friend(s)   Sunny           80   2PM   \n",
              "4  No Urgent Place  Friend(s)   Sunny           80   2PM   \n",
              "\n",
              "                  coupon expiration  gender age      maritalStatus  ...  \\\n",
              "0        Restaurant(<20)         1d  Female  21  Unmarried partner  ...   \n",
              "1           Coffee House         2h  Female  21  Unmarried partner  ...   \n",
              "2  Carry out & Take away         2h  Female  21  Unmarried partner  ...   \n",
              "3           Coffee House         2h  Female  21  Unmarried partner  ...   \n",
              "4           Coffee House         1d  Female  21  Unmarried partner  ...   \n",
              "\n",
              "   CoffeeHouse CarryAway RestaurantLessThan20 Restaurant20To50  \\\n",
              "0        never       NaN                  4~8              1~3   \n",
              "1        never       NaN                  4~8              1~3   \n",
              "2        never       NaN                  4~8              1~3   \n",
              "3        never       NaN                  4~8              1~3   \n",
              "4        never       NaN                  4~8              1~3   \n",
              "\n",
              "  toCoupon_GEQ5min toCoupon_GEQ15min toCoupon_GEQ25min direction_same  \\\n",
              "0                1                 0                 0              0   \n",
              "1                1                 0                 0              0   \n",
              "2                1                 1                 0              0   \n",
              "3                1                 1                 0              0   \n",
              "4                1                 1                 0              0   \n",
              "\n",
              "  direction_opp  Y  \n",
              "0             1  1  \n",
              "1             1  0  \n",
              "2             1  1  \n",
              "3             1  0  \n",
              "4             1  0  \n",
              "\n",
              "[5 rows x 26 columns]"
            ]
          },
          "execution_count": 5,
          "metadata": {},
          "output_type": "execute_result"
        }
      ],
      "source": [
        "data.head()"
      ]
    },
    {
      "cell_type": "markdown",
      "metadata": {
        "id": "GcDs78ZH_qRH"
      },
      "source": [
        "2. Investigate the dataset for missing or problematic data."
      ]
    },
    {
      "cell_type": "code",
      "execution_count": 6,
      "metadata": {
        "id": "6CwL6oWj_qRH"
      },
      "outputs": [
        {
          "name": "stdout",
          "output_type": "stream",
          "text": [
            "<class 'pandas.core.frame.DataFrame'>\n",
            "RangeIndex: 12684 entries, 0 to 12683\n",
            "Data columns (total 26 columns):\n",
            " #   Column                Non-Null Count  Dtype \n",
            "---  ------                --------------  ----- \n",
            " 0   destination           12684 non-null  object\n",
            " 1   passanger             12684 non-null  object\n",
            " 2   weather               12684 non-null  object\n",
            " 3   temperature           12684 non-null  int64 \n",
            " 4   time                  12684 non-null  object\n",
            " 5   coupon                12684 non-null  object\n",
            " 6   expiration            12684 non-null  object\n",
            " 7   gender                12684 non-null  object\n",
            " 8   age                   12684 non-null  object\n",
            " 9   maritalStatus         12684 non-null  object\n",
            " 10  has_children          12684 non-null  int64 \n",
            " 11  education             12684 non-null  object\n",
            " 12  occupation            12684 non-null  object\n",
            " 13  income                12684 non-null  object\n",
            " 14  car                   108 non-null    object\n",
            " 15  Bar                   12577 non-null  object\n",
            " 16  CoffeeHouse           12467 non-null  object\n",
            " 17  CarryAway             12533 non-null  object\n",
            " 18  RestaurantLessThan20  12554 non-null  object\n",
            " 19  Restaurant20To50      12495 non-null  object\n",
            " 20  toCoupon_GEQ5min      12684 non-null  int64 \n",
            " 21  toCoupon_GEQ15min     12684 non-null  int64 \n",
            " 22  toCoupon_GEQ25min     12684 non-null  int64 \n",
            " 23  direction_same        12684 non-null  int64 \n",
            " 24  direction_opp         12684 non-null  int64 \n",
            " 25  Y                     12684 non-null  int64 \n",
            "dtypes: int64(8), object(18)\n",
            "memory usage: 2.5+ MB\n"
          ]
        }
      ],
      "source": [
        "data.info()\n"
      ]
    },
    {
      "cell_type": "code",
      "execution_count": 7,
      "metadata": {},
      "outputs": [
        {
          "data": {
            "text/plain": [
              "destination                 0\n",
              "passanger                   0\n",
              "weather                     0\n",
              "temperature                 0\n",
              "time                        0\n",
              "coupon                      0\n",
              "expiration                  0\n",
              "gender                      0\n",
              "age                         0\n",
              "maritalStatus               0\n",
              "has_children                0\n",
              "education                   0\n",
              "occupation                  0\n",
              "income                      0\n",
              "car                     12576\n",
              "Bar                       107\n",
              "CoffeeHouse               217\n",
              "CarryAway                 151\n",
              "RestaurantLessThan20      130\n",
              "Restaurant20To50          189\n",
              "toCoupon_GEQ5min            0\n",
              "toCoupon_GEQ15min           0\n",
              "toCoupon_GEQ25min           0\n",
              "direction_same              0\n",
              "direction_opp               0\n",
              "Y                           0\n",
              "dtype: int64"
            ]
          },
          "execution_count": 7,
          "metadata": {},
          "output_type": "execute_result"
        }
      ],
      "source": [
        "data.isna().sum()"
      ]
    },
    {
      "cell_type": "code",
      "execution_count": 32,
      "metadata": {},
      "outputs": [
        {
          "name": "stdout",
          "output_type": "stream",
          "text": [
            "- Bar: never, less1, 1~3, 4~8, gt8\n",
            "- Carryaway: 1~3, 4~8, less1, gt8, never\n",
            "- Coffeehouse: less1, 1~3, never, 4~8, gt8\n",
            "- Restaurant20to50: less1, 1~3, never, 4~8, gt8\n",
            "- Restaurantlessthan20: 1~3, 4~8, less1, gt8, never\n",
            "- Y: 1, 0\n",
            "- Age: 21, 26, 31, 50plus, 36, 41, 46, below21\n",
            "- Car: Scooter and motorcycle, Mazda5, do not drive, crossover, Car that is too old to install Onstar :D\n",
            "- Coupon: Coffee House, Restaurant(<20), Carry out & Take away, Bar, Restaurant(20-50)\n",
            "- Destination: No Urgent Place, Home, Work\n",
            "- Direction_opp: 1, 0\n",
            "- Direction_same: 0, 1\n",
            "- Education: Some college - no degree, Bachelors degree, Graduate degree (Masters or Doctorate), Associates degree, High School Graduate, Some High School\n",
            "- Expiration: 1d, 2h\n",
            "- Gender: Female, Male\n",
            "- Has_children: 0, 1\n",
            "- Income: $25000 - $37499, $12500 - $24999, $37500 - $49999, $100000 or More, $50000 - $62499, Less than $12500, $87500 - $99999, $75000 - $87499, $62500 - $74999\n",
            "- Maritalstatus: Married partner, Single, Unmarried partner, Divorced, Widowed\n",
            "- Occupation: Unemployed, Student, Computer & Mathematical, Sales & Related, Education&Training&Library, Management, Office & Administrative Support, Arts Design Entertainment Sports & Media, Business & Financial, Retired, Food Preparation & Serving Related, Healthcare Practitioners & Technical, Healthcare Support, Community & Social Services, Legal, Transportation & Material Moving, Architecture & Engineering, Personal Care & Service, Protective Service, Life Physical Social Science, Construction & Extraction, Installation Maintenance & Repair, Production Occupations, Building & Grounds Cleaning & Maintenance, Farming Fishing & Forestry\n",
            "- Passanger: Alone, Friend(s), Partner, Kid(s)\n",
            "- Temperature: 80, 55, 30\n",
            "- Time: 6PM, 7AM, 10AM, 2PM, 10PM\n",
            "- Tocoupon_geq15min: 1, 0\n",
            "- Tocoupon_geq25min: 0, 1\n",
            "- Tocoupon_geq5min: 1\n",
            "- Weather: Sunny, Snowy, Rainy\n"
          ]
        }
      ],
      "source": [
        "# Unique values for each column\n",
        "for c in data.columns.sort_values():\n",
        "    values = data[c].value_counts().index.tolist()\n",
        "    str_values = \", \".join([str(v) for v in values])\n",
        "    print(f\"- {c.capitalize()}: {str_values}\")"
      ]
    },
    {
      "cell_type": "markdown",
      "metadata": {
        "id": "bSdVSpYB_qRH"
      },
      "source": [
        "3. Decide what to do about your missing data -- drop, replace, other..."
      ]
    },
    {
      "cell_type": "code",
      "execution_count": 4,
      "metadata": {
        "id": "tyvoAC5F_qRI"
      },
      "outputs": [
        {
          "name": "stdout",
          "output_type": "stream",
          "text": [
            "Shape of dataset after removing duplicates: (12610, 26)\n",
            "Shape of dataset after removing non-drivers: (12588, 27)\n",
            "Shape of dataset after removing car column: (12588, 26)\n",
            "Shape of dataset after removing NaN rows: (11985, 26)\n"
          ]
        }
      ],
      "source": [
        "duplicate = data[data.duplicated(keep = 'last')] \n",
        "data = data.drop_duplicates()\n",
        "print(\"Shape of dataset after removing duplicates:\",data.shape)\n",
        "# Add String value for Y column\n",
        "data['Y_str'] = data['Y'].map({0:'Rejecetd', 1:'Accepted'})\n",
        "# Drop the rows for non-drivers\n",
        "data = data.query(\"car != 'do not drive'\")\n",
        "print(\"Shape of dataset after removing non-drivers:\",data.shape)\n",
        "# # Drop the car column\n",
        "data = data.drop(columns=['car'])\n",
        "print(\"Shape of dataset after removing car column:\",data.shape)\n",
        "# \n",
        "nan_percent = data.isnull().sum()*100/len(data)\n",
        "nan_df = pd.DataFrame({'nan_count': data.isnull().sum(),'nan_per': nan_percent})\n",
        "nan_df[nan_df.nan_count != 0]\n",
        "data = data.dropna()\n",
        "print(\"Shape of dataset after removing NaN rows:\",data.shape)\n"
      ]
    },
    {
      "cell_type": "markdown",
      "metadata": {
        "id": "YE6oJbXd_qRI"
      },
      "source": [
        "4. What proportion of the total observations chose to accept the coupon?\n",
        "\n"
      ]
    },
    {
      "cell_type": "code",
      "execution_count": 5,
      "metadata": {
        "id": "86GGqBTv_qRI"
      },
      "outputs": [
        {
          "name": "stdout",
          "output_type": "stream",
          "text": [
            "Rejected coupon%  5170 , 43.137 %\n",
            "Accepted coupon%  6815 , 56.863 %\n"
          ]
        }
      ],
      "source": [
        "accepted_rejected_count = data.groupby('Y')['Y'].count()\n",
        "accepted_rejected_count\n",
        "print('Rejected coupon% ',accepted_rejected_count[0],',',round(accepted_rejected_count[0]/data.shape[0]*100,3),'%')\n",
        "print('Accepted coupon% ',accepted_rejected_count[1],',',round(accepted_rejected_count[1]/data.shape[0]*100,3),'%')\n"
      ]
    },
    {
      "cell_type": "markdown",
      "metadata": {
        "id": "vflz0DoE_qRI"
      },
      "source": [
        "5. Use a bar plot to visualize the `coupon` column."
      ]
    },
    {
      "cell_type": "code",
      "execution_count": 20,
      "metadata": {
        "id": "dHFh3E45_qRI"
      },
      "outputs": [
        {
          "data": {
            "image/png": "[encoded data removed]",
            "text/plain": [
              "<Figure size 640x480 with 1 Axes>"
            ]
          },
          "metadata": {},
          "output_type": "display_data"
        }
      ],
      "source": [
        "coupons = data.groupby(['coupon','Y_str']).count()['weather'].reset_index(name='count')\n",
        "graph = sns.barplot(data=coupons, x='count', y='coupon', hue='Y_str')\n",
        "graph.set(xlabel='Count', ylabel='Coupon Type')\n",
        "plt.title('Coupon Acceptance by Coupon Type')\n",
        "plt.legend(title='Y')\n",
        "plt.savefig('images/coupon_barplot.png',bbox_inches='tight')\n"
      ]
    },
    {
      "cell_type": "code",
      "execution_count": null,
      "metadata": {},
      "outputs": [],
      "source": []
    },
    {
      "cell_type": "markdown",
      "metadata": {
        "id": "Qw4lCyx2_qRI"
      },
      "source": [
        "6. Use a histogram to visualize the temperature column."
      ]
    },
    {
      "cell_type": "code",
      "execution_count": 24,
      "metadata": {
        "id": "Yg9Anv71_qRI"
      },
      "outputs": [
        {
          "data": {
            "image/png": "[encoded data removed]",
            "text/plain": [
              "<Figure size 640x480 with 1 Axes>"
            ]
          },
          "metadata": {},
          "output_type": "display_data"
        }
      ],
      "source": [
        "sns.histplot(data['temperature'])\n",
        "plt.xlabel('Temperature')\n",
        "plt.ylabel('Frequency')\n",
        "plt.title('Temperature Distribution')\n",
        "plt.savefig('images/temperature_histplot.png',bbox_inches='tight')"
      ]
    },
    {
      "cell_type": "code",
      "execution_count": null,
      "metadata": {
        "id": "zLtOaJQk_qRI"
      },
      "outputs": [],
      "source": []
    },
    {
      "cell_type": "code",
      "execution_count": null,
      "metadata": {
        "id": "7GBHZKBp_qRJ"
      },
      "outputs": [],
      "source": []
    },
    {
      "cell_type": "code",
      "execution_count": null,
      "metadata": {
        "id": "Y5nBUA-j_qRJ"
      },
      "outputs": [],
      "source": []
    },
    {
      "cell_type": "code",
      "execution_count": null,
      "metadata": {
        "id": "ShcUC-Vm_qRJ"
      },
      "outputs": [],
      "source": []
    },
    {
      "cell_type": "markdown",
      "metadata": {
        "id": "FupfgeJk_qRJ"
      },
      "source": [
        "**Investigating the Bar Coupons**\n",
        "\n",
        "Now, we will lead you through an exploration of just the bar related coupons.  \n",
        "\n",
        "1. Create a new `DataFrame` that contains just the bar coupons.\n"
      ]
    },
    {
      "cell_type": "code",
      "execution_count": 25,
      "metadata": {
        "id": "tMBlWuGq_qRJ"
      },
      "outputs": [],
      "source": [
        "bar_df = data.query(\"coupon == 'Bar'\")"
      ]
    },
    {
      "cell_type": "markdown",
      "metadata": {
        "id": "8ue6uCqf_qRJ"
      },
      "source": [
        "2. What proportion of bar coupons were accepted?\n"
      ]
    },
    {
      "cell_type": "code",
      "execution_count": 27,
      "metadata": {
        "id": "hSdte8Mi_qRK"
      },
      "outputs": [
        {
          "name": "stdout",
          "output_type": "stream",
          "text": [
            "Rejected Bar Coupon %  1121 , 58.876 %\n",
            "Accepted Bar Coupon %  783 , 41.124 %\n"
          ]
        }
      ],
      "source": [
        "bar_coupon = bar_df.groupby('Y')['Y'].count()\n",
        "print('Rejected Bar Coupon % ',bar_coupon[0],',',round(bar_coupon[0]/bar_df.shape[0]*100,3),'%')\n",
        "print('Accepted Bar Coupon % ',bar_coupon[1],',',round(bar_coupon[1]/bar_df.shape[0]*100,3),'%')\n"
      ]
    },
    {
      "cell_type": "markdown",
      "metadata": {
        "id": "85nA_iEi_qRK"
      },
      "source": [
        "3. Compare the acceptance rate between those who went to a bar 3 or fewer times a month to those who went more.\n"
      ]
    },
    {
      "cell_type": "code",
      "execution_count": 62,
      "metadata": {
        "id": "LBOrN-XM_qRK"
      },
      "outputs": [
        {
          "name": "stdout",
          "output_type": "stream",
          "text": [
            "Less than 3 times is 37.24%\n",
            "More than 3 times is 75.92%\n"
          ]
        }
      ],
      "source": [
        "# - Bar: never, less1, 1~3, 4~8, gt8\n",
        "less_than_3 = ['never', 'less1', '1~3']\n",
        "less_than_3_go2bar = bar_df.query(\"Bar in @less_than_3\").count()['Y']\n",
        "more_than_3_go2bar = bar_df.query(\"Bar not in @less_than_3\").count()['Y']\n",
        "\n",
        "less_than_3_acceptance = bar_df.query(\"Y == 1 and Bar in @less_than_3\").count()['Y']\n",
        "more_than_3_acceptance = bar_df.query(\"Y == 1 and Bar not in @less_than_3\").count()['Y']\n",
        "rate_of_acceptance_for_l3 = round(less_than_3_acceptance/less_than_3_go2bar*100,2)\n",
        "rate_of_acceptance_for_g3 = round(more_than_3_acceptance/more_than_3_go2bar*100,2)\n",
        "\n",
        "print(f\"Less than 3 times is {rate_of_acceptance_for_l3}%\")\n",
        "print(f\"More than 3 times is {rate_of_acceptance_for_g3}%\")"
      ]
    },
    {
      "cell_type": "markdown",
      "metadata": {
        "id": "RBgcQwH4_qRK"
      },
      "source": [
        "4. Compare the acceptance rate between drivers who go to a bar more than once a month and are over the age of 25 to the all others.  Is there a difference?\n"
      ]
    },
    {
      "cell_type": "code",
      "execution_count": 63,
      "metadata": {
        "id": "bf28bbeX_qRK"
      },
      "outputs": [
        {
          "name": "stdout",
          "output_type": "stream",
          "text": [
            "Age is more than 25 is 68.83%\n",
            "Age is less than 25 48.95%\n",
            "Yes, Younger people are less likely to accept the Bar coupon\n"
          ]
        }
      ],
      "source": [
        "# - Age: 21, 26, 31, 50plus, 36, 41, 46, below21\n",
        "# - Bar: never, less1, 1~3, 4~8, gt8\n",
        "more_than_25 = ['26', '31', '36', '41', '46', '50plus']\n",
        "bar_more_than_once = ['1~3', '4~8', 'gt8']\n",
        "more_than_25_go2bar = bar_df.query(\"age in @more_than_25 and Bar in @bar_more_than_once\").count()['Y']\n",
        "others_go2bar = bar_df.query(\"age not in @more_than_25\").count()['Y']\n",
        "accepted_more_than_25 = bar_df.query(\"Y == 1 and age in @more_than_25 and Bar in @bar_more_than_once\").count()['Y']\n",
        "accepted_others = bar_df.query(\"Y == 1 and age not in @more_than_25\").count()['Y']\n",
        "rate_of_acceptance_for_m25 = round(accepted_more_than_25/more_than_25_go2bar*100,2)\n",
        "rate_of_acceptance_for_others = round(accepted_others/others_go2bar*100,2)\n",
        "print(f\"Age is more than 25 is {rate_of_acceptance_for_m25}%\")\n",
        "print(f\"Age is less than 25 {rate_of_acceptance_for_others}%\")\n",
        "print(\"Yes, Younger people are less likely to accept the Bar coupon\")"
      ]
    },
    {
      "cell_type": "code",
      "execution_count": null,
      "metadata": {},
      "outputs": [],
      "source": []
    },
    {
      "cell_type": "markdown",
      "metadata": {
        "id": "S4RKT4PJ_qRK"
      },
      "source": [
        "5. Use the same process to compare the acceptance rate between drivers who go to bars more than once a month and had passengers that were not a kid and had occupations other than farming, fishing, or forestry.\n"
      ]
    },
    {
      "cell_type": "code",
      "execution_count": 54,
      "metadata": {
        "id": "sENaI2Tg_qRK"
      },
      "outputs": [
        {
          "name": "stdout",
          "output_type": "stream",
          "text": [
            "The Rate of acceptance  70.83%\n"
          ]
        }
      ],
      "source": [
        "# Occupation: Unemployed, Student, Computer & Mathematical, Sales & Related, Education&Training&Library, Management, Office & Administrative Support, Arts Design Entertainment Sports & Media, Business & Financial, Retired, Food Preparation & Serving Related, Healthcare Practitioners & Technical, Healthcare Support, Community & Social Services, Legal, Transportation & Material Moving, Architecture & Engineering, Personal Care & Service, Protective Service, Life Physical Social Science, Construction & Extraction, Installation Maintenance & Repair, Production Occupations, Building & Grounds Cleaning & Maintenance, Farming Fishing & Forestry\n",
        "# Passanger: Alone, Friend(s), Partner, Kid(s)\n",
        "kids = ['Kid(s)']\n",
        "occupation = ['farming, fishing, or forestry']\n",
        "bar_freq_less_than_1 = ['never', 'less1']\n",
        "less_than_1_go2bar = bar_df.query(\"Bar not in @bar_freq_less_than_1 and passanger not in @kids and occupation not in @occupation\").count()['Y']\n",
        "acceptance_less_than_3_go2bar = bar_df.query(\"Y == 1 and Bar not in @bar_freq_less_than_1 and passanger not in @kids and occupation not in @occupation\").count()['Y']\n",
        "rate_of_acceptance_for_less_than_3 = round(acceptance_less_than_3_go2bar/less_than_1_go2bar*100,2)\n",
        "print(f\"The Rate of acceptance  {rate_of_acceptance_for_less_than_3}%\")"
      ]
    },
    {
      "cell_type": "markdown",
      "metadata": {
        "id": "n2LIUTil_qRK"
      },
      "source": [
        "6. Compare the acceptance rates between those drivers who:\n",
        "\n",
        "- go to bars more than once a month, had passengers that were not a kid, and were not widowed *OR*\n",
        "- go to bars more than once a month and are under the age of 30 *OR*\n",
        "- go to cheap restaurants more than 4 times a month and income is less than 50K.\n",
        "\n"
      ]
    },
    {
      "cell_type": "code",
      "execution_count": 61,
      "metadata": {
        "id": "aK_wEzx7_qRK"
      },
      "outputs": [
        {
          "name": "stdout",
          "output_type": "stream",
          "text": [
            "Non-widowed people is 70.83%\n",
            "Younger than 30 is 71.78%\n",
            "Income less than 50 is 46.15%\n"
          ]
        }
      ],
      "source": [
        "# Maritalstatus: Married partner, Single, Unmarried partner, Divorced, Widowed\n",
        "# Age: 21, 26, 31, 50plus, 36, 41, 46, below21\n",
        "# - Restaurantlessthan20: 1~3, 4~8, less1, gt8, never\n",
        "# Income: $25000 - $37499, $12500 - $24999, $37500 - $49999, $100000 or More, $50000 - $62499, Less than $12500, $87500 - $99999, $75000 - $87499, $62500 - $74999\n",
        "marital_status = ['Widowed']\n",
        "non_widowed_lt1_go2bar = bar_df.query(\"Bar not in @bar_freq_less_than_1 and passanger not in @kids and maritalStatus not in @marital_status\").count()['Y']\n",
        "accepted_non_widowed_lt1 = bar_df.query(\"Y == 1 and Bar not in @bar_freq_less_than_1 and passanger not in @kids and maritalStatus not in @marital_status\").count()['Y']\n",
        "rate_of_acceptance_for_non_widowed_lt1 = round(accepted_non_widowed_lt1/non_widowed_lt1_go2bar*100,2)\n",
        "print(f\"Non-widowed people is {rate_of_acceptance_for_non_widowed_lt1}%\")\n",
        "#\n",
        "age_less_than_30 = ['below21','21', '26']\n",
        "total_age_lt30 = bar_df.query(\"Bar not in @bar_freq_less_than_1 and age in @age_less_than_30\").count()['Y']\n",
        "accepted_age_lt30 = bar_df.query(\"Y == 1 and Bar not in @bar_freq_less_than_1 and age in @age_less_than_30\").count()['Y']\n",
        "rate_of_acceptance_for_age_lt30 = round(accepted_age_lt30/total_age_lt30*100,2)\n",
        "print(f\"Younger than 30 is {rate_of_acceptance_for_age_lt30}%\")\n",
        "#\n",
        "cheap_restaurant_freq = ['4~8', 'gt8']\n",
        "income_less_than_50 = ['$12500 - $24999','$25000 - $37499','$37500 - $49999']\n",
        "total_income_lt50 = bar_df.query(\"RestaurantLessThan20 in @cheap_restaurant_freq and income in @income_less_than_50\").count()['Y']\n",
        "accepted_income_lt50 = bar_df.query(\"Y == 1 and RestaurantLessThan20 in @cheap_restaurant_freq and income in @income_less_than_50\").count()['Y']\n",
        "rate_of_acceptance_for_income_lt50 = round(accepted_income_lt50/total_income_lt50*100,2)\n",
        "print(f\"Income less than 50 is {rate_of_acceptance_for_income_lt50}%\")\n"
      ]
    },
    {
      "cell_type": "code",
      "execution_count": null,
      "metadata": {},
      "outputs": [],
      "source": []
    },
    {
      "cell_type": "markdown",
      "metadata": {
        "id": "v3fL3QkO_qRK"
      },
      "source": [
        "7.  Based on these observations, what do you hypothesize about drivers who accepted the bar coupons?"
      ]
    },
    {
      "cell_type": "markdown",
      "metadata": {},
      "source": [
        "    - Drivers who go to bars more than once a month have higher acceptance rate compared to others.\n",
        "    - Younger people are less likely to accept the Bar coupon.\n",
        "    - People with occupations other than farming, fishing, or forestry have higher acceptance rate compared to others.\n",
        "    - Non-widowed people have higher acceptance rate compared to widowed ones.\n",
        "    - Drivers who go to cheap restaurants more than 4 times a month and income is less than 50K have lower acceptance rate compared to others."
      ]
    },
    {
      "cell_type": "markdown",
      "metadata": {
        "id": "r4Hu1zOb_qRL"
      },
      "source": [
        "### Independent Investigation\n",
        "\n",
        "Using the bar coupon example as motivation, you are to explore one of the other coupon groups and try to determine the characteristics of passengers who accept the coupons.  "
      ]
    },
    {
      "cell_type": "code",
      "execution_count": null,
      "metadata": {
        "id": "0c71cQhu_qRL"
      },
      "outputs": [],
      "source": []
    },
    {
      "cell_type": "code",
      "execution_count": null,
      "metadata": {
        "id": "QEsBkvIN_qRL"
      },
      "outputs": [],
      "source": []
    },
    {
      "cell_type": "code",
      "execution_count": null,
      "metadata": {
        "id": "fTC2WGE3_qRL"
      },
      "outputs": [],
      "source": []
    },
    {
      "cell_type": "code",
      "execution_count": null,
      "metadata": {
        "id": "RrqUWn7d_qRL"
      },
      "outputs": [],
      "source": []
    },
    {
      "cell_type": "code",
      "execution_count": null,
      "metadata": {
        "id": "_oykf8YP_qRL"
      },
      "outputs": [],
      "source": []
    }
  ],
  "metadata": {
    "colab": {
      "provenance": []
    },
    "kernelspec": {
      "display_name": "ber_aiml_py311",
      "language": "python",
      "name": "python3"
    },
    "language_info": {
      "codemirror_mode": {
        "name": "ipython",
        "version": 3
      },
      "file_extension": ".py",
      "mimetype": "text/x-python",
      "name": "python",
      "nbconvert_exporter": "python",
      "pygments_lexer": "ipython3",
      "version": "3.11.11"
    }
  },
  "nbformat": 4,
  "nbformat_minor": 0
}
